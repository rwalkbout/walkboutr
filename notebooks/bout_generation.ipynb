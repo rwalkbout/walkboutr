{
 "cells": [
  {
   "cell_type": "code",
   "execution_count": 80,
   "id": "a92fdd44-d8e0-43ad-a526-ebba1f33454f",
   "metadata": {},
   "outputs": [],
   "source": [
    "import pandas as pd\n",
    "import numpy as np\n",
    "import scipy.stats as stats\n",
    "import matplotlib.pyplot as plt\n",
    "from typing import List, Tuple"
   ]
  },
  {
   "cell_type": "code",
   "execution_count": 81,
   "id": "4d7ef439-d632-41e5-96d5-bddb7b10609f",
   "metadata": {},
   "outputs": [],
   "source": [
    "active_counts_per_epoch_min = 500\n",
    "minimum_bout_length = 10\n",
    "maximum_number_consec_inactive_epochs_in_bout = 3\n",
    "min_non_wearing_length = 20 * 2  # Assuming 30 second epochs\n",
    "filepath = \"~/Desktop/Desktop/epidemiology_PhD/R/packages/walkboutr/tests/fixtures/\""
   ]
  },
  {
   "cell_type": "code",
   "execution_count": 85,
   "id": "e1be6a3b-61a3-4891-bfd5-d47f8bcec245",
   "metadata": {},
   "outputs": [],
   "source": [
    "ActivityEpoch = Tuple[int, int, int]\n",
    "\n",
    "\n",
    "# General purpose activity sequence builders\n",
    "def make_active_period(length: int = 1, is_bout: bool = True) -> ActivityEpoch:\n",
    "    return [(active_counts_per_epoch_min, int(is_bout), 0)]*length\n",
    "\n",
    "def make_inactive_period(length: int = 1, is_bout: bool = False, non_wearing: bool = False, complete_day: bool = False) -> ActivityEpoch:\n",
    "    return [(0, int(is_bout), int(non_wearing), bool(complete_day))]*length\n",
    "\n",
    "def add_date_and_format(counts_and_labels: List[ActivityEpoch]) -> pd.DataFrame:\n",
    "    dates = pd.date_range(start='2012-04-07',freq=\"30S\", periods = len(counts_and_labels))\n",
    "    df = pd.DataFrame(data=counts_and_labels, columns=['activity_counts', 'bout', 'non_wearing', 'complete_day'])\n",
    "    df['time'] = dates\n",
    "    return df\n",
    "\n",
    "# Higher level helpers\n",
    "\n",
    "def make_smallest_bout_window() -> List[ActivityEpoch]:\n",
    "    return make_active_period(minimum_bout_length)\n",
    "\n",
    "def make_non_bout_window() -> List[ActivityEpoch]:\n",
    "    return make_inactive_period(maximum_number_consec_inactive_epochs_in_bout + 1)\n",
    "\n",
    "def make_smallest_nonwearing_window() -> List[ActivityEpoch]:\n",
    "    return make_inactive_period(min_non_wearing_length, non_wearing=True)\n",
    "\n",
    "\n",
    "# Test set makers\n",
    "\n",
    "def make_smallest_bout():\n",
    "    counts = (\n",
    "        make_non_bout_window()\n",
    "        + make_smallest_bout_window()\n",
    "        + make_non_bout_window()\n",
    "    )\n",
    "    return add_date_and_format(counts)\n",
    "\n",
    "def make_smallest_bout_with_largest_inactive_period():\n",
    "    nbw = make_non_bout_window()\n",
    "    inactive_period = make_inactive_period(maximum_number_consec_inactive_epochs_in_bout,is_bout=True)\n",
    "    sbw = make_smallest_bout_window()\n",
    "    halfway = len(sbw) // 2\n",
    "    \n",
    "    counts = (\n",
    "        nbw \n",
    "        + sbw[:halfway] + inactive_period + sbw[halfway:]\n",
    "        + nbw\n",
    "    )\n",
    "    return add_date_and_format(counts)\n",
    "\n",
    "def make_smallest_bout_with_smallest_non_wearing_period():\n",
    "    counts = (\n",
    "        make_non_bout_window()\n",
    "        + make_smallest_bout_window()\n",
    "        + make_smallest_nonwearing_window()\n",
    "    )\n",
    "    return add_date_and_format(counts)\n",
    "    \n"
   ]
  },
  {
   "cell_type": "code",
   "execution_count": 86,
   "id": "20b3c763-8c4d-496b-9131-3764cc1d7af2",
   "metadata": {},
   "outputs": [],
   "source": [
    "make_smallest_bout().to_csv(f'{filepath}smallest_bout.csv', index=False)\n",
    "make_smallest_bout_with_largest_inactive_period().to_csv(f'{filepath}smallest_bout_with_largest_inactive_period.csv', index=False)\n",
    "make_smallest_bout_with_smallest_non_wearing_period().to_csv(f'{filepath}smallest_bout_with_smallest_non_wearing_period.csv', index=False)"
   ]
  },
  {
   "cell_type": "code",
   "execution_count": 61,
   "id": "05da66a0-253b-4ce0-968a-7143e722e7a6",
   "metadata": {},
   "outputs": [],
   "source": [
    "def generate_bout_activity_vector(bout_length: int,\n",
    "                                 min_active_epochs: int, \n",
    "                                 seed: int = 12345):\n",
    "    np.random.seed(seed)\n",
    "    if bout_length < min_active_epochs: \n",
    "        raise ValueError(\"Bout length must be greater than number of minimum active epochs\")\n",
    "    dist = stats.bernoulli(p=.5)\n",
    "    activity_sequence = [0,0,0,0,1]\n",
    "    zero_counter = 0\n",
    "    bout_length = bout_length - 2\n",
    "    min_active_epochs = min_active_epochs - 2\n",
    "    for i in range(bout_length):\n",
    "        next_epoch = dist.rvs()\n",
    "        if next_epoch == 0: \n",
    "            zero_counter = zero_counter + 1 \n",
    "            if zero_counter == 4:\n",
    "                next_epoch = 1 \n",
    "                zero_counter = 0\n",
    "        else: \n",
    "            zero_counter = 0\n",
    "            min_active_epochs = min_active_epochs - 1\n",
    "            if min_active_epochs == bout_length - i:\n",
    "                remainder = [1]*(bout_length-i)\n",
    "                activity_sequence.extend(remainder)\n",
    "                break\n",
    "        activity_sequence.append(next_epoch)\n",
    "        \n",
    "    activity_sequence.extend([1,0,0,0,0])\n",
    "    return activity_sequence"
   ]
  },
  {
   "cell_type": "code",
   "execution_count": 63,
   "id": "6fbd5aef-c836-4e54-af74-25507bff8c19",
   "metadata": {
    "tags": []
   },
   "outputs": [
    {
     "data": {
      "text/plain": [
       "array([0, 0, 0, 0, 1, 1, 0, 0, 0, 1, 1, 1, 1, 1, 1, 1, 1, 0, 0, 0, 1, 1,\n",
       "       1, 1, 1, 1, 1, 0, 0, 0, 1, 1, 1, 1, 0, 0, 1, 1, 0, 0, 1, 1, 0, 1,\n",
       "       1, 1, 1, 1, 0, 0, 0, 1, 0, 1, 0, 1, 0, 1, 1, 1, 0, 0, 0, 1, 1, 0,\n",
       "       0, 1, 0, 0, 1, 1, 1, 1, 1, 1, 0, 0, 1, 1, 0, 0, 1, 0, 1, 1, 1, 0,\n",
       "       1, 0, 0, 0, 1, 1, 0, 1, 1, 1, 1, 0, 1, 0, 1, 1, 0, 0, 0, 0])"
      ]
     },
     "execution_count": 63,
     "metadata": {},
     "output_type": "execute_result"
    }
   ],
   "source": [
    "# %%timeit\n",
    "np.array(generate_bout_activity_vector(100, 14))"
   ]
  },
  {
   "cell_type": "code",
   "execution_count": 64,
   "id": "702feb52-d8d1-482b-9f86-689cb7541295",
   "metadata": {},
   "outputs": [],
   "source": [
    "def generate_non_bout_activity_vector(vector_length: int,\n",
    "                                      min_active_epochs:int,\n",
    "                                      seed: int = 12345): \n",
    "    np.random.seed(seed)\n",
    "    bout_break = [0,0,0,0]\n",
    "    dist = stats.bernoulli(.75)\n",
    "    activity_vector = list()\n",
    "    while len(activity_vector) < vector_length:\n",
    "        mini_activity_sequence = list(dist.rvs(min_active_epochs - 1))\n",
    "        activity_vector.extend(mini_activity_sequence + bout_break)\n",
    "    return activity_vector[:vector_length]\n",
    "    "
   ]
  },
  {
   "cell_type": "code",
   "execution_count": 65,
   "id": "2bb281ae-a48f-499e-afa3-8fa6dc580e85",
   "metadata": {},
   "outputs": [
    {
     "data": {
      "text/plain": [
       "array([0, 1, 1, 1, 1, 1, 0, 1, 1, 0, 0, 0, 0, 1, 1, 0, 1, 1, 1, 1, 0, 0,\n",
       "       0, 0, 0, 0, 0, 1, 1, 1, 1, 1, 1])"
      ]
     },
     "execution_count": 65,
     "metadata": {},
     "output_type": "execute_result"
    }
   ],
   "source": [
    "np.array(generate_non_bout_activity_vector(33, 10, 12345))"
   ]
  },
  {
   "cell_type": "code",
   "execution_count": null,
   "id": "15181bf8-69e9-4380-baa9-557e32834796",
   "metadata": {},
   "outputs": [],
   "source": [
    "# def generate_person()"
   ]
  },
  {
   "cell_type": "code",
   "execution_count": null,
   "id": "0688bd1a-bc17-46c1-ba46-547820d15f64",
   "metadata": {},
   "outputs": [],
   "source": [
    "# def generate_dataset()"
   ]
  },
  {
   "cell_type": "code",
   "execution_count": null,
   "id": "620eabeb-7c31-4bde-9a17-1cc03e221e20",
   "metadata": {},
   "outputs": [],
   "source": [
    "# format: assign times and accelemotry values to each of these 0s and 1s "
   ]
  },
  {
   "cell_type": "code",
   "execution_count": null,
   "id": "c45cc57f-35f5-4c0e-83fb-2cacd91e32e5",
   "metadata": {},
   "outputs": [],
   "source": [
    "# final result: Dataset with X number of people, each with Y number of bouts and Z number of nonbouts, \n",
    "# that can be run through the walkbout code to label bouts"
   ]
  }
 ],
 "metadata": {
  "kernelspec": {
   "display_name": "Python 3 (ipykernel)",
   "language": "python",
   "name": "python3"
  },
  "language_info": {
   "codemirror_mode": {
    "name": "ipython",
    "version": 3
   },
   "file_extension": ".py",
   "mimetype": "text/x-python",
   "name": "python",
   "nbconvert_exporter": "python",
   "pygments_lexer": "ipython3",
   "version": "3.10.8"
  }
 },
 "nbformat": 4,
 "nbformat_minor": 5
}
