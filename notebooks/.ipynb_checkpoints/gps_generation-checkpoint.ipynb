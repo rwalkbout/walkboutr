{
 "cells": [
  {
   "cell_type": "code",
   "execution_count": 17,
   "id": "4f0aa911-396e-4b50-9833-48a53b907012",
   "metadata": {},
   "outputs": [],
   "source": [
    "filepath = \"~/Desktop/Desktop/epidemiology_PhD/R/packages/walkboutr/tests/fixtures/\""
   ]
  },
  {
   "cell_type": "code",
   "execution_count": 29,
   "id": "87c5a50f-0b9b-48f3-b2a4-a4b78b39a4c4",
   "metadata": {},
   "outputs": [],
   "source": [
    "import numpy as np \n",
    "from numpy.random import RandomState\n",
    "import pandas as pd\n",
    "import random\n",
    "from typing import Tuple\n",
    "\n",
    "def generate_human_motion(start_lat: float, start_long: float, rng: RandomState, n_epochs: int = 60, dt_seconds: float = 16.0) -> pd.DataFrame:\n",
    "    \"\"\"Generates a series of latitudes, longitudes, and speeds that mimic human motion.\n",
    "\n",
    "    Parameters\n",
    "    ----------\n",
    "    start_lat : float\n",
    "        The starting latitude in decimal degrees.\n",
    "    start_long : float\n",
    "        The starting longitude in decimal degrees.\n",
    "    rng : random.Random\n",
    "        The random number generator to use.\n",
    "\n",
    "    Returns\n",
    "    -------\n",
    "    pd.DataFrame\n",
    "        A table of data with columns [time, latitude, longitude, speed].\n",
    "\n",
    "    \"\"\"\n",
    "    # Set the initial location and speed.\n",
    "    current_lat = start_lat\n",
    "    current_long = start_long\n",
    "    current_speed = rng.uniform(0.5, 1.5)  # km/h\n",
    "\n",
    "    # Generate a series of locations and speeds.\n",
    "    directions = rng.uniform(0, 2 * np.pi, n_epochs)\n",
    "    dts = rng.uniform(25, 35, n_epochs)\n",
    "\n",
    "    # Vectorize the calculations using NumPy arrays.\n",
    "    lats = np.zeros(n_epochs + 1)\n",
    "    lons = np.zeros(n_epochs + 1)\n",
    "    speeds = np.zeros(n_epochs + 1)\n",
    "    lats[0], lons[0], speeds[0] = start_lat, start_long, current_speed\n",
    "    for i in range(n_epochs):\n",
    "        lats[i+1], lons[i+1] = next_lat_long(lats[i], lons[i], speeds[i], directions[i], dts[i])\n",
    "        speeds[i+1] = rng.uniform(0.5, 1.5)\n",
    "\n",
    "    # Create a DataFrame with columns [time, latitude, longitude, speed].\n",
    "    times = np.arange(n_epochs + 1) * dt_seconds  \n",
    "    data = np.array([times, lats, lons, speeds]).T\n",
    "    df = pd.DataFrame(data, columns=[\"time\", \"latitude\", \"longitude\", \"speed\"])\n",
    "\n",
    "    return df"
   ]
  },
  {
   "cell_type": "code",
   "execution_count": 30,
   "id": "869c6239-542b-43f8-ba1d-3d4914793636",
   "metadata": {},
   "outputs": [],
   "source": [
    "df = generate_human_motion(start_lat=47.6062, start_long=122.3321, rng=RandomState(1234))\n",
    "df[\"time\"] = pd.Timestamp(\"2008-07-25\")+pd.to_timedelta(df[\"time\"],unit=\"S\")\n",
    "df\n",
    "df.to_csv(f'{filepath}gps_data.csv', index=False)\n"
   ]
  },
  {
   "cell_type": "code",
   "execution_count": 24,
   "id": "659fdb0e-cf4a-4cd0-b3de-11544670391d",
   "metadata": {},
   "outputs": [],
   "source": [
    "def helper(x:int, divisor:int):\n",
    "    quotient = x//divisor\n",
    "    remainder = x%divisor\n",
    "    return quotient, remainder"
   ]
  },
  {
   "cell_type": "code",
   "execution_count": 25,
   "id": "8954e6d5-f7a4-47bf-b9e4-5992305b43bc",
   "metadata": {},
   "outputs": [],
   "source": [
    "def convert_seconds_to_time(x:int):\n",
    "    seconds_per_day = 60*60*24\n",
    "    seconds_per_hour = 60*60\n",
    "    seconds_per_minute = 60\n",
    "    days, x = helper(x,seconds_per_day)\n",
    "    hours, x = helper(x,seconds_per_hour)\n",
    "    minutes, seconds = helper(x, seconds_per_minute)\n",
    "    return days, hours, minutes, seconds\n"
   ]
  },
  {
   "cell_type": "code",
   "execution_count": 26,
   "id": "cecdef41-9557-48ce-a4e7-5df0bbc149de",
   "metadata": {},
   "outputs": [
    {
     "data": {
      "text/plain": [
       "(1428, 21, 33, 9)"
      ]
     },
     "execution_count": 26,
     "metadata": {},
     "output_type": "execute_result"
    }
   ],
   "source": [
    "convert_seconds_to_time(123456789)"
   ]
  },
  {
   "cell_type": "code",
   "execution_count": null,
   "id": "e58b2f98-11ab-40c5-91b3-37a33076d260",
   "metadata": {},
   "outputs": [],
   "source": []
  }
 ],
 "metadata": {
  "kernelspec": {
   "display_name": "Python 3 (ipykernel)",
   "language": "python",
   "name": "python3"
  },
  "language_info": {
   "codemirror_mode": {
    "name": "ipython",
    "version": 3
   },
   "file_extension": ".py",
   "mimetype": "text/x-python",
   "name": "python",
   "nbconvert_exporter": "python",
   "pygments_lexer": "ipython3",
   "version": "3.10.8"
  }
 },
 "nbformat": 4,
 "nbformat_minor": 5
}
